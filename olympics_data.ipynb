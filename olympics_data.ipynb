{
  "nbformat": 4,
  "nbformat_minor": 0,
  "metadata": {
    "colab": {
      "provenance": [],
      "authorship_tag": "ABX9TyOLRVcP1UE/1tB598KWYZ5h",
      "include_colab_link": true
    },
    "kernelspec": {
      "name": "python3",
      "display_name": "Python 3"
    },
    "language_info": {
      "name": "python"
    }
  },
  "cells": [
    {
      "cell_type": "markdown",
      "metadata": {
        "id": "view-in-github",
        "colab_type": "text"
      },
      "source": [
        "<a href=\"https://colab.research.google.com/github/1165CHETAN/Data-Analysis/blob/main/olympics_data.ipynb\" target=\"_parent\"><img src=\"https://colab.research.google.com/assets/colab-badge.svg\" alt=\"Open In Colab\"/></a>"
      ]
    },
    {
      "cell_type": "code",
      "execution_count": 4,
      "metadata": {
        "id": "W-BzXmBi4-yh"
      },
      "outputs": [],
      "source": [
        "import pandas as pd"
      ]
    },
    {
      "cell_type": "code",
      "source": [
        "teams = pd.read_csv(\"/content/teams.csv\")"
      ],
      "metadata": {
        "id": "3Luqnw945Mnj"
      },
      "execution_count": 5,
      "outputs": []
    },
    {
      "cell_type": "code",
      "source": [
        "teams"
      ],
      "metadata": {
        "id": "ebS40S2O5M89"
      },
      "execution_count": null,
      "outputs": []
    },
    {
      "cell_type": "code",
      "source": [
        "teams=teams[[\"team\",\"country\",\"year\",\"athletes\",\"age\",\"prev_medals\",\"medals\"]]"
      ],
      "metadata": {
        "id": "whlWNdeX5NLm"
      },
      "execution_count": 7,
      "outputs": []
    },
    {
      "cell_type": "code",
      "source": [
        "teams"
      ],
      "metadata": {
        "id": "zuceOXUf5Nxs"
      },
      "execution_count": null,
      "outputs": []
    },
    {
      "cell_type": "code",
      "source": [
        "import seaborn as sns"
      ],
      "metadata": {
        "id": "hD_5ftJL5N-G"
      },
      "execution_count": 9,
      "outputs": []
    },
    {
      "cell_type": "code",
      "source": [
        "teams.corr()[\"medals\"]"
      ],
      "metadata": {
        "id": "xb5INtZ8tnKT"
      },
      "execution_count": null,
      "outputs": []
    },
    {
      "cell_type": "code",
      "source": [
        "sns.lmplot(x=\"age\", y=\"medals\", data=teams, fit_reg=True, ci=None)\n",
        "#we can see age bw range 20-30 wins more numbers of medals"
      ],
      "metadata": {
        "id": "4nE-iy4Rtm-E"
      },
      "execution_count": null,
      "outputs": []
    },
    {
      "cell_type": "code",
      "source": [
        "teams[teams.isnull().any(axis=1)]\n",
        "#here 130 rows and 7 columns have empty null values"
      ],
      "metadata": {
        "id": "Pyp8M4rptmxM"
      },
      "execution_count": null,
      "outputs": []
    },
    {
      "cell_type": "code",
      "source": [
        "teams=teams.dropna()\n",
        "teams"
      ],
      "metadata": {
        "id": "0JG2wOV-wW8W"
      },
      "execution_count": null,
      "outputs": []
    },
    {
      "cell_type": "code",
      "source": [
        "train=teams[teams[\"year\"]<2012].copy()#past\n",
        "test=teams[teams[\"year\"]>=2012].copy()#future"
      ],
      "metadata": {
        "id": "tCv6YAKmwW2v"
      },
      "execution_count": 14,
      "outputs": []
    },
    {
      "cell_type": "code",
      "source": [
        "train.shape"
      ],
      "metadata": {
        "id": "Ghexe_nSwWrC",
        "colab": {
          "base_uri": "https://localhost:8080/"
        },
        "outputId": "f1640879-829d-4b80-d232-72e728fb3704"
      },
      "execution_count": 15,
      "outputs": [
        {
          "output_type": "execute_result",
          "data": {
            "text/plain": [
              "(1609, 7)"
            ]
          },
          "metadata": {},
          "execution_count": 15
        }
      ]
    },
    {
      "cell_type": "code",
      "source": [
        "test.shape#future part"
      ],
      "metadata": {
        "id": "iLfypjkt0S1d",
        "colab": {
          "base_uri": "https://localhost:8080/"
        },
        "outputId": "b207f364-e6af-4c97-9f2e-573a7cf9c2a3"
      },
      "execution_count": 16,
      "outputs": [
        {
          "output_type": "execute_result",
          "data": {
            "text/plain": [
              "(405, 7)"
            ]
          },
          "metadata": {},
          "execution_count": 16
        }
      ]
    },
    {
      "cell_type": "code",
      "source": [
        "from sklearn.linear_model import LinearRegression\n",
        "reg=LinearRegression()"
      ],
      "metadata": {
        "id": "H3dZdpMv0Sx8"
      },
      "execution_count": 17,
      "outputs": []
    },
    {
      "cell_type": "code",
      "source": [
        "predictors=[\"athletes\",\"prev_medals\"]\n",
        "target=\"medals\"\n",
        "#we are going to train LR model from column predictors to predict medals of players"
      ],
      "metadata": {
        "id": "whwdDHSw0Stw"
      },
      "execution_count": 18,
      "outputs": []
    },
    {
      "cell_type": "code",
      "source": [
        "reg.fit(train[predictors], train[\"medals\"])"
      ],
      "metadata": {
        "id": "lZEj73TP27qy"
      },
      "execution_count": null,
      "outputs": []
    },
    {
      "cell_type": "code",
      "source": [
        "prediction= reg.predict(test[predictors])\n",
        "prediction\n",
        "#we want medals in solid number not in -ve or fraction format"
      ],
      "metadata": {
        "id": "xuATVrAU27nR"
      },
      "execution_count": null,
      "outputs": []
    },
    {
      "cell_type": "code",
      "source": [
        "test[\"predictions\"] = prediction\n",
        "test"
      ],
      "metadata": {
        "id": "0zUIVEhE8-5W"
      },
      "execution_count": null,
      "outputs": []
    },
    {
      "cell_type": "code",
      "source": [
        "test.loc[test[\"predictions\"] < 0, \"predictions\"] = 0\n",
        "test[\"predictions\"] = test[\"predictions\"].round()\n",
        "test\n",
        "#we have to do -ve=0, fractions=round integers"
      ],
      "metadata": {
        "id": "PxWcoLG-9t22"
      },
      "execution_count": null,
      "outputs": []
    },
    {
      "cell_type": "code",
      "source": [
        "test[test[\"team\"]==\"USA\"]"
      ],
      "metadata": {
        "id": "8kTeU9pg-NB8"
      },
      "execution_count": null,
      "outputs": []
    },
    {
      "cell_type": "code",
      "source": [
        "test[test[\"team\"]==\"IND\"]\n",
        "#in 2012 actual=6, prediction=7"
      ],
      "metadata": {
        "id": "OJDU5e61-M-l"
      },
      "execution_count": null,
      "outputs": []
    },
    {
      "cell_type": "code",
      "source": [
        "errors = (test[\"medals\"] - prediction).abs()"
      ],
      "metadata": {
        "id": "eFsj8cSfzAuw"
      },
      "execution_count": 26,
      "outputs": []
    },
    {
      "cell_type": "code",
      "source": [
        "error_by_team = errors.groupby(test[\"team\"]).mean()\n",
        "medals_by_team = test[\"medals\"].groupby(test[\"team\"]).mean()\n",
        "error_ratio =  error_by_team / medals_by_team"
      ],
      "metadata": {
        "id": "5rhbU6j0zAqs"
      },
      "execution_count": 27,
      "outputs": []
    },
    {
      "cell_type": "code",
      "source": [
        "import numpy as np\n",
        "error_ratio = error_ratio[np.isfinite(error_ratio)]"
      ],
      "metadata": {
        "id": "MHZIvWC-zAn9"
      },
      "execution_count": 28,
      "outputs": []
    },
    {
      "cell_type": "code",
      "source": [
        "error_ratio.plot.hist()"
      ],
      "metadata": {
        "id": "KwQr1VbmzyML"
      },
      "execution_count": null,
      "outputs": []
    },
    {
      "cell_type": "markdown",
      "source": [
        "**Random forest** is a commonly-used machine learning algorithm trademarked by Leo Breiman and Adele Cutler, which combines the output of multiple decision trees to reach a single result. Its ease of use and flexibility have fueled its adoption, as it handles both classification and regression problems.\n",
        "\n"
      ],
      "metadata": {
        "id": "dAm-AyJUya6p"
      }
    }
  ]
}